{
  "cells": [
    {
      "cell_type": "markdown",
      "metadata": {
        "id": "2L6Q6YRv0cr5"
      },
      "source": [
        "#Estrutura de Dados\n",
        "Aqui vamos abordar o tema Estrutura de dados , implementando os algoritmos e explicando os seus conceitos."
      ]
    },
    {
      "cell_type": "code",
      "execution_count": null,
      "metadata": {
        "id": "0geUNo480iql"
      },
      "outputs": [],
      "source": [
        "import random\n",
        "nomes=[]\n",
        "for i in range(1,20,1):\n",
        "  nomes.append(random.randint(1,14))"
      ]
    },
    {
      "cell_type": "code",
      "execution_count": null,
      "metadata": {
        "colab": {
          "base_uri": "https://localhost:8080/"
        },
        "id": "Kb9rNEjy4lIu",
        "outputId": "ed41dc67-559a-4163-e2c5-a0e18ffe8d01"
      },
      "outputs": [
        {
          "data": {
            "text/plain": [
              "[6, 1, 1, 5, 3, 11, 9, 13, 8, 6, 6, 3, 6, 9, 14, 12, 14, 1, 12]"
            ]
          },
          "execution_count": 21,
          "metadata": {},
          "output_type": "execute_result"
        }
      ],
      "source": [
        "nomes"
      ]
    },
    {
      "cell_type": "code",
      "execution_count": null,
      "metadata": {
        "id": "hJCHkWg01P38"
      },
      "outputs": [],
      "source": [
        "# Organizar \n",
        "for i in range (0,19):\n",
        "  for j in range(i+1,19):\n",
        "    if nomes[i]>nomes[j]:\n",
        "      x=nomes[i]\n",
        "      nomes[i]=nomes[j]\n",
        "      nomes[j]=x\n"
      ]
    },
    {
      "cell_type": "code",
      "execution_count": null,
      "metadata": {
        "colab": {
          "base_uri": "https://localhost:8080/"
        },
        "id": "KkmPSFpG2BTU",
        "outputId": "a281fce2-cc1d-4f75-c1d6-dbbca28d4067"
      },
      "outputs": [
        {
          "data": {
            "text/plain": [
              "[1, 1, 1, 3, 3, 5, 6, 6, 6, 6, 8, 9, 9, 11, 12, 12, 13, 14, 14]"
            ]
          },
          "execution_count": 24,
          "metadata": {},
          "output_type": "execute_result"
        }
      ],
      "source": [
        "nomes"
      ]
    },
    {
      "cell_type": "markdown",
      "metadata": {
        "id": "i_MOwzXbhFV0"
      },
      "source": [
        "##Busca Linear"
      ]
    },
    {
      "cell_type": "code",
      "execution_count": null,
      "metadata": {
        "id": "f9ojpbbNhCkz"
      },
      "outputs": [],
      "source": [
        "def buscaLinear(lista, valor):\n",
        "  for i in range(len(lista)):\n",
        "    if valor==lista[i]:\n",
        "      return f'foi encontrado o valor: {lista[i]}'\n",
        "    \n",
        "  raise Exception"
      ]
    },
    {
      "cell_type": "code",
      "execution_count": null,
      "metadata": {
        "colab": {
          "base_uri": "https://localhost:8080/"
        },
        "id": "81nMGOiyiAOO",
        "outputId": "9a98daca-13ca-41da-ba5c-f55985dfcda7"
      },
      "outputs": [
        {
          "name": "stdout",
          "output_type": "stream",
          "text": [
            "foi encontrado o valor: 5\n"
          ]
        }
      ],
      "source": [
        "lista=[1,2,3,4,5,6]\n",
        "try:\n",
        "  valor=buscaLinear(lista, 5)\n",
        "  print(valor)\n",
        "except Exception as e:\n",
        "  print(\"Valor não esta na lista\")"
      ]
    }
  ],
  "metadata": {
    "colab": {
      "collapsed_sections": [],
      "provenance": []
    },
    "kernelspec": {
      "display_name": "Python 3.10.8 64-bit (microsoft store)",
      "language": "python",
      "name": "python3"
    },
    "language_info": {
      "name": "python",
      "version": "3.10.8"
    },
    "vscode": {
      "interpreter": {
        "hash": "3b7e9cb8e453d6cda0fe8c8dd13f891a1f09162f0e7c66ffeae7751a7aecf00d"
      }
    }
  },
  "nbformat": 4,
  "nbformat_minor": 0
}
